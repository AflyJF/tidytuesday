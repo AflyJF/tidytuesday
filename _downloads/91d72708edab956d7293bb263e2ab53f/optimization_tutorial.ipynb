{
  "cells": [
    {
      "cell_type": "code",
      "execution_count": 1,
      "metadata": {
        "id": "vzQ0eFcENfGw"
      },
      "outputs": [],
      "source": [
        "# For tips on running notebooks in Google Colab, see\n",
        "# https://pytorch.org/tutorials/beginner/colab\n",
        "%matplotlib inline"
      ]
    },
    {
      "cell_type": "markdown",
      "metadata": {
        "id": "Z7k1CzSBNfGz"
      },
      "source": [
        "[Learn the Basics](intro.html) \\|\\|\n",
        "[Quickstart](quickstart_tutorial.html) \\|\\|\n",
        "[Tensors](tensorqs_tutorial.html) \\|\\| [Datasets &\n",
        "DataLoaders](data_tutorial.html) \\|\\|\n",
        "[Transforms](transforms_tutorial.html) \\|\\| [Build\n",
        "Model](buildmodel_tutorial.html) \\|\\|\n",
        "[Autograd](autogradqs_tutorial.html) \\|\\| **Optimization** \\|\\| [Save &\n",
        "Load Model](saveloadrun_tutorial.html)\n",
        "\n",
        "Optimizing Model Parameters\n",
        "===========================\n",
        "\n",
        "Now that we have a model and data it\\'s time to train, validate and test\n",
        "our model by optimizing its parameters on our data. Training a model is\n",
        "an iterative process; in each iteration the model makes a guess about\n",
        "the output, calculates the error in its guess (*loss*), collects the\n",
        "derivatives of the error with respect to its parameters (as we saw in\n",
        "the [previous section](autograd_tutorial.html)), and **optimizes** these\n",
        "parameters using gradient descent. For a more detailed walkthrough of\n",
        "this process, check out this video on [backpropagation from\n",
        "3Blue1Brown](https://www.youtube.com/watch?v=tIeHLnjs5U8).\n",
        "\n",
        "Prerequisite Code\n",
        "-----------------\n",
        "\n",
        "We load the code from the previous sections on [Datasets &\n",
        "DataLoaders](data_tutorial.html) and [Build\n",
        "Model](buildmodel_tutorial.html).\n"
      ]
    },
    {
      "cell_type": "code",
      "execution_count": 1,
      "metadata": {
        "colab": {
          "base_uri": "https://localhost:8080/"
        },
        "id": "ZrcLF2VkNfG1",
        "outputId": "5fe9cc12-646a-4f6b-a308-c5fe804d9bdc"
      },
      "outputs": [
        {
          "output_type": "stream",
          "name": "stdout",
          "text": [
            "Downloading http://fashion-mnist.s3-website.eu-central-1.amazonaws.com/train-images-idx3-ubyte.gz\n",
            "Downloading http://fashion-mnist.s3-website.eu-central-1.amazonaws.com/train-images-idx3-ubyte.gz to data/FashionMNIST/raw/train-images-idx3-ubyte.gz\n"
          ]
        },
        {
          "output_type": "stream",
          "name": "stderr",
          "text": [
            "100%|██████████| 26.4M/26.4M [00:02<00:00, 11.6MB/s]\n"
          ]
        },
        {
          "output_type": "stream",
          "name": "stdout",
          "text": [
            "Extracting data/FashionMNIST/raw/train-images-idx3-ubyte.gz to data/FashionMNIST/raw\n",
            "\n",
            "Downloading http://fashion-mnist.s3-website.eu-central-1.amazonaws.com/train-labels-idx1-ubyte.gz\n",
            "Downloading http://fashion-mnist.s3-website.eu-central-1.amazonaws.com/train-labels-idx1-ubyte.gz to data/FashionMNIST/raw/train-labels-idx1-ubyte.gz\n"
          ]
        },
        {
          "output_type": "stream",
          "name": "stderr",
          "text": [
            "100%|██████████| 29.5k/29.5k [00:00<00:00, 251kB/s]\n"
          ]
        },
        {
          "output_type": "stream",
          "name": "stdout",
          "text": [
            "Extracting data/FashionMNIST/raw/train-labels-idx1-ubyte.gz to data/FashionMNIST/raw\n",
            "\n",
            "Downloading http://fashion-mnist.s3-website.eu-central-1.amazonaws.com/t10k-images-idx3-ubyte.gz\n",
            "Downloading http://fashion-mnist.s3-website.eu-central-1.amazonaws.com/t10k-images-idx3-ubyte.gz to data/FashionMNIST/raw/t10k-images-idx3-ubyte.gz\n"
          ]
        },
        {
          "output_type": "stream",
          "name": "stderr",
          "text": [
            "100%|██████████| 4.42M/4.42M [00:00<00:00, 4.61MB/s]\n"
          ]
        },
        {
          "output_type": "stream",
          "name": "stdout",
          "text": [
            "Extracting data/FashionMNIST/raw/t10k-images-idx3-ubyte.gz to data/FashionMNIST/raw\n",
            "\n",
            "Downloading http://fashion-mnist.s3-website.eu-central-1.amazonaws.com/t10k-labels-idx1-ubyte.gz\n",
            "Downloading http://fashion-mnist.s3-website.eu-central-1.amazonaws.com/t10k-labels-idx1-ubyte.gz to data/FashionMNIST/raw/t10k-labels-idx1-ubyte.gz\n"
          ]
        },
        {
          "output_type": "stream",
          "name": "stderr",
          "text": [
            "100%|██████████| 5.15k/5.15k [00:00<00:00, 8.70MB/s]"
          ]
        },
        {
          "output_type": "stream",
          "name": "stdout",
          "text": [
            "Extracting data/FashionMNIST/raw/t10k-labels-idx1-ubyte.gz to data/FashionMNIST/raw\n",
            "\n"
          ]
        },
        {
          "output_type": "stream",
          "name": "stderr",
          "text": [
            "\n"
          ]
        }
      ],
      "source": [
        "import torch\n",
        "from torch import nn\n",
        "from torch.utils.data import DataLoader\n",
        "from torchvision import datasets\n",
        "from torchvision.transforms import ToTensor\n",
        "\n",
        "training_data = datasets.FashionMNIST(\n",
        "    root=\"data\",\n",
        "    train=True,\n",
        "    download=True,\n",
        "    transform=ToTensor()\n",
        ")\n",
        "\n",
        "test_data = datasets.FashionMNIST(\n",
        "    root=\"data\",\n",
        "    train=False,\n",
        "    download=True,\n",
        "    transform=ToTensor()\n",
        ")\n",
        "\n",
        "####### 数据加载器 同时设置每个batch的batch_size\n",
        "train_dataloader = DataLoader(training_data, batch_size=64)\n",
        "test_dataloader = DataLoader(test_data, batch_size=64)\n",
        "\n",
        "class NeuralNetwork(nn.Module):\n",
        "    def __init__(self):\n",
        "        super().__init__()\n",
        "        self.flatten = nn.Flatten()\n",
        "        self.linear_relu_stack = nn.Sequential(\n",
        "            nn.Linear(28*28, 512),\n",
        "            nn.ReLU(),\n",
        "            nn.Linear(512, 512),\n",
        "            nn.ReLU(),\n",
        "            nn.Linear(512, 10),\n",
        "        )\n",
        "\n",
        "    def forward(self, x):\n",
        "        x = self.flatten(x)\n",
        "        logits = self.linear_relu_stack(x)\n",
        "        return logits\n",
        "\n",
        "model = NeuralNetwork()"
      ]
    },
    {
      "cell_type": "code",
      "source": [
        "print(len(train_dataloader.dataset))"
      ],
      "metadata": {
        "id": "fk3lMLazdvX3",
        "outputId": "b80ea63a-9936-40ba-de83-8f69000e873a",
        "colab": {
          "base_uri": "https://localhost:8080/"
        }
      },
      "execution_count": 12,
      "outputs": [
        {
          "output_type": "stream",
          "name": "stdout",
          "text": [
            "60000\n"
          ]
        }
      ]
    },
    {
      "cell_type": "markdown",
      "metadata": {
        "id": "Rzzr4I3-NfG2"
      },
      "source": [
        "Hyperparameters\n",
        "===============\n",
        "\n",
        "Hyperparameters are adjustable parameters that let you control the model\n",
        "optimization process. Different hyperparameter values can impact model\n",
        "training and convergence rates ([read\n",
        "more](https://pytorch.org/tutorials/beginner/hyperparameter_tuning_tutorial.html)\n",
        "about hyperparameter tuning)\n",
        "\n",
        "We define the following hyperparameters for training:\n",
        "\n",
        ":   -   **Number of Epochs** - the number times to iterate over the\n",
        "        dataset\n",
        "    -   **Batch Size** - the number of data samples propagated through\n",
        "        the network before the parameters are updated\n",
        "    -   **Learning Rate** - how much to update models parameters at each\n",
        "        batch/epoch. Smaller values yield slow learning speed, while\n",
        "        large values may result in unpredictable behavior during\n",
        "        training.\n"
      ]
    },
    {
      "cell_type": "code",
      "execution_count": 2,
      "metadata": {
        "id": "pjTXcK-ZNfG2"
      },
      "outputs": [],
      "source": [
        "learning_rate = 1e-3\n",
        "batch_size = 64\n",
        "epochs = 5"
      ]
    },
    {
      "cell_type": "markdown",
      "metadata": {
        "id": "egN2ykW3NfG3"
      },
      "source": [
        "Optimization Loop\n",
        "=================\n",
        "\n",
        "Once we set our hyperparameters, we can then train and optimize our\n",
        "model with an optimization loop. Each iteration of the optimization loop\n",
        "is called an **epoch**.\n",
        "\n",
        "Each epoch consists of two main parts:\n",
        "\n",
        ":   -   **The Train Loop** - iterate over the training dataset and try\n",
        "        to converge to optimal parameters.\n",
        "    -   **The Validation/Test Loop** - iterate over the test dataset to\n",
        "        check if model performance is improving.\n",
        "\n",
        "Let\\'s briefly familiarize ourselves with some of the concepts used in\n",
        "the training loop. Jump ahead to see the\n",
        "`full-impl-label`{.interpreted-text role=\"ref\"} of the optimization\n",
        "loop.\n",
        "\n",
        "Loss Function\n",
        "-------------\n",
        "\n",
        "When presented with some training data, our untrained network is likely\n",
        "not to give the correct answer. **Loss function** measures the degree of\n",
        "dissimilarity of obtained result to the target value, and it is the loss\n",
        "function that we want to minimize during training. To calculate the loss\n",
        "we make a prediction using the inputs of our given data sample and\n",
        "compare it against the true data label value.\n",
        "\n",
        "Common loss functions include\n",
        "[nn.MSELoss](https://pytorch.org/docs/stable/generated/torch.nn.MSELoss.html#torch.nn.MSELoss)\n",
        "(Mean Square Error) for regression tasks, and\n",
        "[nn.NLLLoss](https://pytorch.org/docs/stable/generated/torch.nn.NLLLoss.html#torch.nn.NLLLoss)\n",
        "(Negative Log Likelihood) for classification.\n",
        "[nn.CrossEntropyLoss](https://pytorch.org/docs/stable/generated/torch.nn.CrossEntropyLoss.html#torch.nn.CrossEntropyLoss)\n",
        "combines `nn.LogSoftmax` and `nn.NLLLoss`.\n",
        "\n",
        "We pass our model\\'s output logits to `nn.CrossEntropyLoss`, which will\n",
        "normalize the logits and compute the prediction error.\n"
      ]
    },
    {
      "cell_type": "code",
      "execution_count": 3,
      "metadata": {
        "id": "gdrLEPiyNfG3"
      },
      "outputs": [],
      "source": [
        "# Initialize the loss function\n",
        "loss_fn = nn.CrossEntropyLoss()"
      ]
    },
    {
      "cell_type": "markdown",
      "metadata": {
        "id": "5nrpbx7eNfG4"
      },
      "source": [
        "Optimizer\n",
        "=========\n",
        "\n",
        "Optimization is the process of adjusting model parameters to reduce\n",
        "model error in each training step. **Optimization algorithms** define\n",
        "how this process is performed (in this example we use Stochastic\n",
        "Gradient Descent). All optimization logic is encapsulated in the\n",
        "`optimizer` object. Here, we use the SGD optimizer; additionally, there\n",
        "are many [different\n",
        "optimizers](https://pytorch.org/docs/stable/optim.html) available in\n",
        "PyTorch such as ADAM and RMSProp, that work better for different kinds\n",
        "of models and data.\n",
        "\n",
        "We initialize the optimizer by registering the model\\'s parameters that\n",
        "need to be trained, and passing in the learning rate hyperparameter.\n"
      ]
    },
    {
      "cell_type": "code",
      "execution_count": 4,
      "metadata": {
        "id": "zV83dNCUNfG4"
      },
      "outputs": [],
      "source": [
        "optimizer = torch.optim.SGD(model.parameters(), lr=learning_rate)"
      ]
    },
    {
      "cell_type": "markdown",
      "metadata": {
        "id": "1RgPH6qdNfG4"
      },
      "source": [
        "Inside the training loop, optimization happens in three steps:\n",
        "\n",
        ":   -   Call `optimizer.zero_grad()` to reset the gradients of model\n",
        "        parameters. Gradients by default add up; to prevent\n",
        "        double-counting, we explicitly zero them at each iteration.\n",
        "    -   Backpropagate the prediction loss with a call to\n",
        "        `loss.backward()`. PyTorch deposits the gradients of the loss\n",
        "        w.r.t. each parameter.\n",
        "    -   Once we have our gradients, we call `optimizer.step()` to adjust\n",
        "        the parameters by the gradients collected in the backward pass.\n"
      ]
    },
    {
      "cell_type": "markdown",
      "metadata": {
        "id": "xTWo1wdvNfG5"
      },
      "source": [
        "Full Implementation {#full-impl-label}\n",
        "===================\n",
        "\n",
        "We define `train_loop` that loops over our optimization code, and\n",
        "`test_loop` that evaluates the model\\'s performance against our test\n",
        "data.\n"
      ]
    },
    {
      "cell_type": "code",
      "execution_count": 5,
      "metadata": {
        "id": "Mso3_mJcNfG5"
      },
      "outputs": [],
      "source": [
        "def train_loop(dataloader, model, loss_fn, optimizer):\n",
        "    size = len(dataloader.dataset)\n",
        "    # Set the model to training mode - important for batch normalization and dropout layers\n",
        "    # Unnecessary in this situation but added for best practices\n",
        "    model.train()\n",
        "    for batch, (X, y) in enumerate(dataloader):\n",
        "        # Compute prediction and loss\n",
        "        pred = model(X)\n",
        "        loss = loss_fn(pred, y)\n",
        "\n",
        "        # Backpropagation\n",
        "        loss.backward()\n",
        "        optimizer.step()\n",
        "        optimizer.zero_grad()\n",
        "\n",
        "        if batch % 100 == 0:\n",
        "            loss, current = loss.item(), batch * batch_size + len(X)\n",
        "            print(f\"loss: {loss:>7f}  [{current:>5d}/{size:>5d}]\")\n",
        "\n",
        "\n",
        "def test_loop(dataloader, model, loss_fn):\n",
        "    # Set the model to evaluation mode - important for batch normalization and dropout layers\n",
        "    # Unnecessary in this situation but added for best practices\n",
        "    model.eval()\n",
        "    size = len(dataloader.dataset)\n",
        "    num_batches = len(dataloader)\n",
        "    test_loss, correct = 0, 0\n",
        "\n",
        "    # Evaluating the model with torch.no_grad() ensures that no gradients are computed during test mode\n",
        "    # also serves to reduce unnecessary gradient computations and memory usage for tensors with requires_grad=True\n",
        "    with torch.no_grad(): #测试数据上不要计算梯度\n",
        "        for X, y in dataloader:\n",
        "            pred = model(X)\n",
        "            test_loss += loss_fn(pred, y).item()\n",
        "            correct += (pred.argmax(1) == y).type(torch.float).sum().item()\n",
        "\n",
        "    test_loss /= num_batches\n",
        "    correct /= size\n",
        "    print(f\"Test Error: \\n Accuracy: {(100*correct):>0.1f}%, Avg loss: {test_loss:>8f} \\n\")"
      ]
    },
    {
      "cell_type": "markdown",
      "metadata": {
        "id": "5OXRHNDnNfG5"
      },
      "source": [
        "We initialize the loss function and optimizer, and pass it to\n",
        "`train_loop` and `test_loop`. Feel free to increase the number of epochs\n",
        "to track the model\\'s improving performance.\n"
      ]
    },
    {
      "cell_type": "code",
      "execution_count": 6,
      "metadata": {
        "colab": {
          "base_uri": "https://localhost:8080/"
        },
        "id": "v_eXGtI4NfG5",
        "outputId": "0f03eec4-48c0-4255-d154-3be8bfc14d92"
      },
      "outputs": [
        {
          "output_type": "stream",
          "name": "stdout",
          "text": [
            "Epoch 1\n",
            "-------------------------------\n",
            "loss: 2.300640  [   64/60000]\n",
            "loss: 2.299486  [ 6464/60000]\n",
            "loss: 2.271213  [12864/60000]\n",
            "loss: 2.262455  [19264/60000]\n",
            "loss: 2.259241  [25664/60000]\n",
            "loss: 2.228404  [32064/60000]\n",
            "loss: 2.217324  [38464/60000]\n",
            "loss: 2.189810  [44864/60000]\n",
            "loss: 2.183439  [51264/60000]\n",
            "loss: 2.145824  [57664/60000]\n",
            "Test Error: \n",
            " Accuracy: 37.6%, Avg loss: 2.150108 \n",
            "\n",
            "Epoch 2\n",
            "-------------------------------\n",
            "loss: 2.161153  [   64/60000]\n",
            "loss: 2.158634  [ 6464/60000]\n",
            "loss: 2.095846  [12864/60000]\n",
            "loss: 2.098750  [19264/60000]\n",
            "loss: 2.060926  [25664/60000]\n",
            "loss: 2.009137  [32064/60000]\n",
            "loss: 2.007024  [38464/60000]\n",
            "loss: 1.941085  [44864/60000]\n",
            "loss: 1.933840  [51264/60000]\n",
            "loss: 1.852316  [57664/60000]\n",
            "Test Error: \n",
            " Accuracy: 59.2%, Avg loss: 1.869550 \n",
            "\n",
            "Epoch 3\n",
            "-------------------------------\n",
            "loss: 1.909241  [   64/60000]\n",
            "loss: 1.883178  [ 6464/60000]\n",
            "loss: 1.766937  [12864/60000]\n",
            "loss: 1.781956  [19264/60000]\n",
            "loss: 1.691675  [25664/60000]\n",
            "loss: 1.663335  [32064/60000]\n",
            "loss: 1.649312  [38464/60000]\n",
            "loss: 1.574975  [44864/60000]\n",
            "loss: 1.585693  [51264/60000]\n",
            "loss: 1.473826  [57664/60000]\n",
            "Test Error: \n",
            " Accuracy: 59.7%, Avg loss: 1.509690 \n",
            "\n",
            "Epoch 4\n",
            "-------------------------------\n",
            "loss: 1.582460  [   64/60000]\n",
            "loss: 1.552709  [ 6464/60000]\n",
            "loss: 1.405205  [12864/60000]\n",
            "loss: 1.453289  [19264/60000]\n",
            "loss: 1.346535  [25664/60000]\n",
            "loss: 1.365214  [32064/60000]\n",
            "loss: 1.353886  [38464/60000]\n",
            "loss: 1.297701  [44864/60000]\n",
            "loss: 1.318441  [51264/60000]\n",
            "loss: 1.221863  [57664/60000]\n",
            "Test Error: \n",
            " Accuracy: 62.0%, Avg loss: 1.253032 \n",
            "\n",
            "Epoch 5\n",
            "-------------------------------\n",
            "loss: 1.331459  [   64/60000]\n",
            "loss: 1.320393  [ 6464/60000]\n",
            "loss: 1.153155  [12864/60000]\n",
            "loss: 1.241405  [19264/60000]\n",
            "loss: 1.119715  [25664/60000]\n",
            "loss: 1.167029  [32064/60000]\n",
            "loss: 1.168978  [38464/60000]\n",
            "loss: 1.122823  [44864/60000]\n",
            "loss: 1.146218  [51264/60000]\n",
            "loss: 1.068618  [57664/60000]\n",
            "Test Error: \n",
            " Accuracy: 64.0%, Avg loss: 1.091231 \n",
            "\n",
            "Epoch 6\n",
            "-------------------------------\n",
            "loss: 1.161079  [   64/60000]\n",
            "loss: 1.171604  [ 6464/60000]\n",
            "loss: 0.987024  [12864/60000]\n",
            "loss: 1.108816  [19264/60000]\n",
            "loss: 0.980379  [25664/60000]\n",
            "loss: 1.032616  [32064/60000]\n",
            "loss: 1.052839  [38464/60000]\n",
            "loss: 1.010187  [44864/60000]\n",
            "loss: 1.031794  [51264/60000]\n",
            "loss: 0.970553  [57664/60000]\n",
            "Test Error: \n",
            " Accuracy: 65.4%, Avg loss: 0.985773 \n",
            "\n",
            "Epoch 7\n",
            "-------------------------------\n",
            "loss: 1.040339  [   64/60000]\n",
            "loss: 1.073817  [ 6464/60000]\n",
            "loss: 0.872463  [12864/60000]\n",
            "loss: 1.019858  [19264/60000]\n",
            "loss: 0.892212  [25664/60000]\n",
            "loss: 0.937577  [32064/60000]\n",
            "loss: 0.976104  [38464/60000]\n",
            "loss: 0.935969  [44864/60000]\n",
            "loss: 0.951089  [51264/60000]\n",
            "loss: 0.903312  [57664/60000]\n",
            "Test Error: \n",
            " Accuracy: 66.8%, Avg loss: 0.913110 \n",
            "\n",
            "Epoch 8\n",
            "-------------------------------\n",
            "loss: 0.950539  [   64/60000]\n",
            "loss: 1.004988  [ 6464/60000]\n",
            "loss: 0.790242  [12864/60000]\n",
            "loss: 0.955971  [19264/60000]\n",
            "loss: 0.833247  [25664/60000]\n",
            "loss: 0.867947  [32064/60000]\n",
            "loss: 0.921870  [38464/60000]\n",
            "loss: 0.885957  [44864/60000]\n",
            "loss: 0.892112  [51264/60000]\n",
            "loss: 0.853828  [57664/60000]\n",
            "Test Error: \n",
            " Accuracy: 68.0%, Avg loss: 0.860437 \n",
            "\n",
            "Epoch 9\n",
            "-------------------------------\n",
            "loss: 0.881304  [   64/60000]\n",
            "loss: 0.953141  [ 6464/60000]\n",
            "loss: 0.728829  [12864/60000]\n",
            "loss: 0.907465  [19264/60000]\n",
            "loss: 0.791189  [25664/60000]\n",
            "loss: 0.815809  [32064/60000]\n",
            "loss: 0.880369  [38464/60000]\n",
            "loss: 0.851217  [44864/60000]\n",
            "loss: 0.847976  [51264/60000]\n",
            "loss: 0.815489  [57664/60000]\n",
            "Test Error: \n",
            " Accuracy: 69.4%, Avg loss: 0.820496 \n",
            "\n",
            "Epoch 10\n",
            "-------------------------------\n",
            "loss: 0.826318  [   64/60000]\n",
            "loss: 0.911563  [ 6464/60000]\n",
            "loss: 0.681393  [12864/60000]\n",
            "loss: 0.869345  [19264/60000]\n",
            "loss: 0.759651  [25664/60000]\n",
            "loss: 0.776297  [32064/60000]\n",
            "loss: 0.847053  [38464/60000]\n",
            "loss: 0.825763  [44864/60000]\n",
            "loss: 0.814158  [51264/60000]\n",
            "loss: 0.784659  [57664/60000]\n",
            "Test Error: \n",
            " Accuracy: 70.6%, Avg loss: 0.789043 \n",
            "\n",
            "Done!\n"
          ]
        }
      ],
      "source": [
        "def train_loop(dataloader, model, loss_fn, optimizer):\n",
        "    size = len(dataloader.dataset)\n",
        "    # Set the model to training mode - important for batch normalization and dropout layers\n",
        "    # Unnecessary in this situation but added for best practices\n",
        "    model.train()\n",
        "    for batch, (X, y) in enumerate(dataloader): #\n",
        "        print(len((X)))\n",
        "        # Compute prediction and loss\n",
        "        pred = model(X)\n",
        "        loss = loss_fn(pred, y)\n",
        "\n",
        "        # Backpropagation\n",
        "        loss.backward()\n",
        "        optimizer.step()\n",
        "        optimizer.zero_grad()\n",
        "\n",
        "        if batch % 100 == 0:\n",
        "            loss, current = loss.item(), batch * batch_size + len(X)\n",
        "            print(f\"loss: {loss:>7f}  [{current:>5d}/{size:>5d}]\")\n",
        "\n",
        "\n",
        "def test_loop(dataloader, model, loss_fn):\n",
        "    # Set the model to evaluation mode - important for batch normalization and dropout layers\n",
        "    # Unnecessary in this situation but added for best practices\n",
        "    model.eval()\n",
        "    size = len(dataloader.dataset)\n",
        "    num_batches = len(dataloader)\n",
        "    test_loss, correct = 0, 0\n",
        "\n",
        "    # Evaluating the model with torch.no_grad() ensures that no gradients are computed during test mode\n",
        "    # also serves to reduce unnecessary gradient computations and memory usage for tensors with requires_grad=True\n",
        "    with torch.no_grad(): #测试数据上不要计算梯度\n",
        "        for X, y in dataloader:\n",
        "            pred = model(X)\n",
        "            test_loss += loss_fn(pred, y).item() #累加所有批次的损失 loss.item() #提取单次batch得到的loss张量值》输出为标量\n",
        "\n",
        "            correct += (pred.argmax(1) == y).type(torch.float).sum().item() #确保数据类型一致并高效统计正确数。\n",
        "            '''\n",
        "            pred.argmax(1) 》  输出 每条测试数据输出的logits中最大值索引\n",
        "            pred.argmax(1)==y 判断神经网络预测的logits最大值位置（实际上就是预测分类结果）与真实y的对比》生成True or False的张量\n",
        "            (pred.argmax(1)==y).type(torch.float) 》bool型转换为浮点数 张量\n",
        "            (pred.argmax(1)==y).type(torch.float).sum() 》对浮点数张量求和（得到当前批次预测正确样本数）\n",
        "            (pred.argmax(1)==y).type(torch.float).sum().item() 》对浮点数单元素张量转化为标量\n",
        "\n",
        "            '''\n",
        "\n",
        "\n",
        "    test_loss /= num_batches #test_loss(平均) = test_loss(总)/num_batches\n",
        "    correct /= size\n",
        "    print(f\"Test Error: \\n Accuracy: {(100*correct):>0.1f}%, Avg loss: {test_loss:>8f} \\n\")\n",
        "\n",
        "loss_fn = nn.CrossEntropyLoss()\n",
        "optimizer = torch.optim.SGD(model.parameters(), lr=learning_rate)\n",
        "\n",
        "epochs = 10\n",
        "for t in range(epochs):\n",
        "    print(f\"Epoch {t+1}\\n-------------------------------\")\n",
        "    train_loop(train_dataloader, model, loss_fn, optimizer)\n",
        "    test_loop(test_dataloader, model, loss_fn)\n",
        "print(\"Done!\")"
      ]
    },
    {
      "cell_type": "code",
      "source": [
        "p= torch.tensor([[0.2,1.8,0.5], #最大值索引1\n",
        "         [2.1,2.2,2.3]]) #最大值索引2\n",
        "print(p.argmax(1))\n",
        "\n",
        "#tensor([1, 2]) 取最大值索引"
      ],
      "metadata": {
        "id": "fDgsbWiwYD9g",
        "outputId": "af68b253-1122-49ec-c945-910a9a39cb31",
        "colab": {
          "base_uri": "https://localhost:8080/"
        }
      },
      "execution_count": 7,
      "outputs": [
        {
          "output_type": "stream",
          "name": "stdout",
          "text": [
            "tensor([1, 2])\n"
          ]
        }
      ]
    },
    {
      "cell_type": "markdown",
      "metadata": {
        "id": "aS60YN9BNfG6"
      },
      "source": [
        "Further Reading\n",
        "===============\n",
        "\n",
        "-   [Loss\n",
        "    Functions](https://pytorch.org/docs/stable/nn.html#loss-functions)\n",
        "-   [torch.optim](https://pytorch.org/docs/stable/optim.html)\n",
        "-   [Warmstart Training a\n",
        "    Model](https://pytorch.org/tutorials/recipes/recipes/warmstarting_model_using_parameters_from_a_different_model.html)\n"
      ]
    }
  ],
  "metadata": {
    "kernelspec": {
      "display_name": "Python 3",
      "name": "python3"
    },
    "language_info": {
      "codemirror_mode": {
        "name": "ipython",
        "version": 3
      },
      "file_extension": ".py",
      "mimetype": "text/x-python",
      "name": "python",
      "nbconvert_exporter": "python",
      "pygments_lexer": "ipython3",
      "version": "3.10.12"
    },
    "colab": {
      "provenance": []
    }
  },
  "nbformat": 4,
  "nbformat_minor": 0
}