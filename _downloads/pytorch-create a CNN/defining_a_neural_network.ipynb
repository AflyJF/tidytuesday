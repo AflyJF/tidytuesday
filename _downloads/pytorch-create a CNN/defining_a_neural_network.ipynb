{
  "cells": [
    {
      "cell_type": "code",
      "execution_count": 1,
      "metadata": {
        "id": "4bxWgLcJH5r-"
      },
      "outputs": [],
      "source": [
        "# For tips on running notebooks in Google Colab, see\n",
        "# https://pytorch.org/tutorials/beginner/colab\n",
        "%matplotlib inline"
      ]
    },
    {
      "cell_type": "markdown",
      "metadata": {
        "id": "4m8Khx4LH5sB"
      },
      "source": [
        "Defining a Neural Network in PyTorch\n",
        "====================================\n",
        "\n",
        "Deep learning uses artificial neural networks (models), which are\n",
        "computing systems that are composed of many layers of interconnected\n",
        "units. By passing data through these interconnected units, a neural\n",
        "network is able to learn how to approximate the computations required to\n",
        "transform inputs into outputs. In PyTorch, neural networks can be\n",
        "constructed using the `torch.nn` package.\n",
        "\n",
        "Introduction\n",
        "------------\n",
        "\n",
        "PyTorch provides the elegantly designed modules and classes, including\n",
        "`torch.nn`, to help you create and train neural networks. An `nn.Module`\n",
        "contains layers, and a method `forward(input)` that returns the\n",
        "`output`.\n",
        "\n",
        "In this recipe, we will use `torch.nn` to define a neural network\n",
        "intended for the [MNIST\n",
        "dataset](hhttps://pytorch.org/vision/stable/generated/torchvision.datasets.MNIST.html#torchvision.datasets.MNIST).\n",
        "\n",
        "Setup\n",
        "-----\n",
        "\n",
        "Before we begin, we need to install `torch` if it isn't already\n",
        "available.\n",
        "\n",
        "    pip install torch\n"
      ]
    },
    {
      "cell_type": "markdown",
      "metadata": {
        "id": "6QGknG8oH5sD"
      },
      "source": [
        "Steps\n",
        "=====\n",
        "\n",
        "1.  Import all necessary libraries for loading our data\n",
        "2.  Define and initialize the neural network\n",
        "3.  Specify how data will pass through your model\n",
        "4.  \\[Optional\\] Pass data through your model to test\n",
        "\n",
        "1. Import necessary libraries for loading our data\n",
        "--------------------------------------------------\n",
        "\n",
        "For this recipe, we will use `torch` and its subsidiaries `torch.nn` and\n",
        "`torch.nn.functional`.\n"
      ]
    },
    {
      "cell_type": "code",
      "execution_count": 2,
      "metadata": {
        "id": "YeYB3xQjH5sD"
      },
      "outputs": [],
      "source": [
        "import torch\n",
        "import torch.nn as nn\n",
        "import torch.nn.functional as F #F 是 PyTorch 的 函数式接口（来自 torch.nn.functional 模块）"
      ]
    },
    {
      "cell_type": "markdown",
      "metadata": {
        "id": "pXKMfuYVH5sE"
      },
      "source": [
        "2. Define and initialize the neural network\n",
        "===========================================\n",
        "\n",
        "Our network will recognize images. We will use a process built into\n",
        "PyTorch called convolution. Convolution adds each element of an image to\n",
        "its local neighbors, weighted by a kernel, or a small matrix, that helps\n",
        "us extract certain features (like edge detection, sharpness, blurriness,\n",
        "etc.) from the input image.\n",
        "\n",
        "There are two requirements for defining the `Net` class of your model.\n",
        "The first is writing an \\_\\_init\\_\\_ function that references\n",
        "`nn.Module`. This function is where you define the fully connected\n",
        "layers in your neural network.\n",
        "\n",
        "Using convolution, we will define our model to take 1 input image\n",
        "channel, and output match our target of 10 labels representing numbers 0\n",
        "through 9. This algorithm is yours to create, we will follow a standard\n",
        "MNIST algorithm.\n"
      ]
    },
    {
      "cell_type": "code",
      "execution_count": 7,
      "metadata": {
        "id": "oV0hG0leH5sE",
        "outputId": "e0c7d1dc-ba7c-40e8-8795-554a6268642f",
        "colab": {
          "base_uri": "https://localhost:8080/"
        }
      },
      "outputs": [
        {
          "output_type": "stream",
          "name": "stdout",
          "text": [
            "Net(\n",
            "  (conv1): Conv2d(1, 32, kernel_size=(3, 3), stride=(1, 1))\n",
            "  (conv2): Conv2d(32, 64, kernel_size=(3, 3), stride=(1, 1))\n",
            "  (dropout1): Dropout2d(p=0.25, inplace=False)\n",
            "  (dropout2): Dropout2d(p=0.5, inplace=False)\n",
            "  (fc1): Linear(in_features=9216, out_features=128, bias=True)\n",
            "  (fc2): Linear(in_features=128, out_features=10, bias=True)\n",
            ")\n"
          ]
        }
      ],
      "source": [
        "class Net(nn.Module):\n",
        "    def __init__(self):\n",
        "      '''\n",
        "      The first is writing an __init__ function that references nn.Module.\n",
        "      This function is where you define the fully connected layers in your neural network.\n",
        "      '''\n",
        "\n",
        "      super(Net, self).__init__() #必须的一句\n",
        "\n",
        "      # First 2D convolutional layer, taking in 1 input channel (image),\n",
        "      # outputting 32 convolutional features, with a square kernel size of 3\n",
        "      self.conv1 = nn.Conv2d(1, 32, 3, 1)\n",
        "      #MNIST数据 28x28\n",
        "      #self.conv1 = nn.Conv2d(1, 32, 3, 1)\n",
        "      #1：通道(灰度图)、32:32通道(提取32种特征)、3:(卷积核3x3)、1:步长、同时无填充padding=0\n",
        "      #第一次卷积层后 输出size减少2像素 28x28 > 26x26\n",
        "\n",
        "      # Second 2D convolutional layer, taking in the 32 input layers,\n",
        "      # outputting 64 convolutional features, with a square kernel size of 3\n",
        "      self.conv2 = nn.Conv2d(32, 64, 3, 1)\n",
        "      # 26x26 >24x24 通道由32 > 64\n",
        "\n",
        "      # Designed to ensure that adjacent pixels are either all 0s or all active\n",
        "      # with an input probability\n",
        "      self.dropout1 = nn.Dropout2d(0.25)\n",
        "      self.dropout2 = nn.Dropout2d(0.5)\n",
        "\n",
        "      # First fully connected layer\n",
        "      # 全连接层: input:24x24x64x0.25\n",
        "      self.fc1 = nn.Linear(9216, 128)\n",
        "      # Second fully connected layer that outputs our 10 labels\n",
        "      self.fc2 = nn.Linear(128, 10)\n",
        "\n",
        "my_nn = Net()\n",
        "print(my_nn)"
      ]
    },
    {
      "cell_type": "markdown",
      "metadata": {
        "id": "GWwsYsRuH5sE"
      },
      "source": [
        "We have finished defining our neural network, now we have to define how\n",
        "our data will pass through it.\n",
        "\n",
        "3. Specify how data will pass through your model\n",
        "================================================\n",
        "\n",
        "When you use PyTorch to build a model, you just have to define the\n",
        "`forward` function, that will pass the data into the computation graph\n",
        "(i.e. our neural network). This will represent our feed-forward\n",
        "algorithm.\n",
        "\n",
        "You can use any of the Tensor operations in the `forward` function.\n"
      ]
    },
    {
      "cell_type": "code",
      "execution_count": 8,
      "metadata": {
        "id": "pe5UbDaGH5sF"
      },
      "outputs": [],
      "source": [
        "class Net(nn.Module):\n",
        "    def __init__(self):\n",
        "      super(Net, self).__init__()\n",
        "      self.conv1 = nn.Conv2d(1, 32, 3, 1)\n",
        "      self.conv2 = nn.Conv2d(32, 64, 3, 1)\n",
        "      self.dropout1 = nn.Dropout2d(0.25)\n",
        "      self.dropout2 = nn.Dropout2d(0.5)\n",
        "      self.fc1 = nn.Linear(9216, 128)\n",
        "      self.fc2 = nn.Linear(128, 10)\n",
        "\n",
        "    # x represents our data\n",
        "    def forward(self, x):\n",
        "      # Pass data through conv1\n",
        "      x = self.conv1(x) #输入：1x28x28 → 输出：32x26x26（计算公式：28−3+1=26）\n",
        "      # Use the rectified-linear activation function over x\n",
        "      x = F.relu(x)\n",
        "      #F方法:\n",
        "      #提供直接调用的函数（如激活函数、池化、损失计算等），不保存可训练参数\n",
        "      #允许在模型前向传播中动态控制操作（如手动定义计算流程）。\n",
        "\n",
        "      x = self.conv2(x) #输入：32x26x26 → 输出：64x24x24（计算公式：26−3+1=24）\n",
        "      x = F.relu(x)\n",
        "\n",
        "      # Run max pooling over x\n",
        "      x = F.max_pool2d(x, 2)\n",
        "      #最大池化 输入：64x24x24 → 输出：64x12x12（池化核 2x2，步长 2）\n",
        "\n",
        "      '''\n",
        "      max_pool1d用于一维数据，如时间序列或文本，处理的是长度维度。例如，输入形状为(batch_size, channels, length)，池化在length维度上进行。\n",
        "      max_pool2d用于二维数据，如图像，处理高度和宽度。输入形状为(batch_size, channels, height, width)，池化核是二维的，常见于卷积神经网络中的空间下采样。\n",
        "      max_pool3d处理三维数据，如视频或体积数据，输入形状为(batch_size, channels, depth, height, width)，池化在三个空间维度上进行。\n",
        "\n",
        "      '''\n",
        "\n",
        "      # Pass data through dropout1\n",
        "      x = self.dropout1(x)\n",
        "      # Flatten x with start_dim=1\n",
        "      x = torch.flatten(x, 1)\n",
        "      # Pass data through ``fc1``\n",
        "      x = self.fc1(x)\n",
        "      x = F.relu(x)\n",
        "      x = self.dropout2(x)\n",
        "      x = self.fc2(x)\n",
        "\n",
        "      #卷积 → 激活 → 卷积 → 激活 → 池化 → Dropout → 展平 → 全连接 → 激活 → Dropout → 输出\n",
        "      # Apply softmax to x\n",
        "      output = F.log_softmax(x, dim=1)\n",
        "      #使用 log_softmax 配合负对数似然损失（NLLLoss），适用于分类任务。\n",
        "      # 计算对数概率（dim=1 表示对类别维度操作）\n",
        "      return output"
      ]
    },
    {
      "cell_type": "markdown",
      "metadata": {
        "id": "TCKlu9E_H5sF"
      },
      "source": [
        "4. \\[Optional\\] Pass data through your model to test\n",
        "====================================================\n",
        "\n",
        "To ensure we receive our desired output, let's test our model by passing\n",
        "some random data through it.\n"
      ]
    },
    {
      "cell_type": "code",
      "execution_count": 10,
      "metadata": {
        "id": "4zCE8Pl4H5sG",
        "outputId": "f3313e1c-beb1-44ea-89e5-0dd9757671dd",
        "colab": {
          "base_uri": "https://localhost:8080/"
        }
      },
      "outputs": [
        {
          "output_type": "stream",
          "name": "stdout",
          "text": [
            "tensor([[-2.4235, -2.2761, -2.2490, -2.2621, -2.3828, -2.3694, -2.2343, -2.3663,\n",
            "         -2.1808, -2.3086]], grad_fn=<LogSoftmaxBackward0>)\n"
          ]
        }
      ],
      "source": [
        "# Equates to one random 28x28 image\n",
        "random_data = torch.rand((1, 1, 28, 28))\n",
        "\n",
        "my_nn = Net()\n",
        "result = my_nn(random_data)\n",
        "print (result)# 做的是F.log_softmax(x, dim=1)  对数softmax 输出的结果是每个类别对数后结果，相加是不为1的"
      ]
    },
    {
      "cell_type": "markdown",
      "metadata": {
        "id": "fp7FXDf2H5sG"
      },
      "source": [
        "Each number in this resulting tensor equates to the prediction of the\n",
        "label the random tensor is associated to.\n",
        "\n",
        "Congratulations! You have successfully defined a neural network in\n",
        "PyTorch.\n",
        "\n",
        "Learn More\n",
        "==========\n",
        "\n",
        "Take a look at these other recipes to continue your learning:\n",
        "\n",
        "-   [What is a state\\_dict in\n",
        "    PyTorch](https://pytorch.org/tutorials/recipes/recipes/what_is_state_dict.html)\n",
        "-   [Saving and loading models for inference in\n",
        "    PyTorch](https://pytorch.org/tutorials/recipes/recipes/saving_and_loading_models_for_inference.html)\n"
      ]
    }
  ],
  "metadata": {
    "kernelspec": {
      "display_name": "Python 3",
      "language": "python",
      "name": "python3"
    },
    "language_info": {
      "codemirror_mode": {
        "name": "ipython",
        "version": 3
      },
      "file_extension": ".py",
      "mimetype": "text/x-python",
      "name": "python",
      "nbconvert_exporter": "python",
      "pygments_lexer": "ipython3",
      "version": "3.10.12"
    },
    "colab": {
      "provenance": []
    }
  },
  "nbformat": 4,
  "nbformat_minor": 0
}